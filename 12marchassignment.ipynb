{
 "cells": [
  {
   "cell_type": "markdown",
   "id": "8e89981c-04c6-41a8-9cb8-3e8ace7fdcaa",
   "metadata": {},
   "source": [
    "Q1. Calculate the 95% confidence interval for a sample of data with a mean of 50 and a standard deviation\n",
    "of 5 using Python. Interpret the results."
   ]
  },
  {
   "cell_type": "code",
   "execution_count": 8,
   "id": "3e603e6c-e00f-4943-9b7d-9375b854358e",
   "metadata": {},
   "outputs": [
    {
     "name": "stdout",
     "output_type": "stream",
     "text": [
      "95% Confidence Interval: (-13.53102368216048, 113.53102368216048)\n"
     ]
    }
   ],
   "source": [
    "#Answer:\n",
    "import scipy.stats as stat\n",
    "import numpy as np\n",
    "\n",
    "data = np.array([50])\n",
    "n = len(data)\n",
    "\n",
    "sample_mean = np.mean(data)\n",
    "\n",
    "standard_error = 5/np.sqrt(n)\n",
    "\n",
    "critical_value = stat.t.ppf(0.975 , df = 1)\n",
    "\n",
    "lower_bound = sample_mean - critical_value*standard_error\n",
    "upper_bound = sample_mean + critical_value*standard_error\n",
    "\n",
    "print(\"95% Confidence Interval:\", (lower_bound, upper_bound))"
   ]
  },
  {
   "cell_type": "code",
   "execution_count": null,
   "id": "cd2a6b2c-7528-4929-a51b-38502c5d9afc",
   "metadata": {},
   "outputs": [],
   "source": []
  },
  {
   "cell_type": "markdown",
   "id": "b8b881a9-b136-4654-8003-71effb59e183",
   "metadata": {},
   "source": [
    "Q2. Conduct a chi-square goodness of fit test to determine if the distribution of colors of M&Ms in a bag\n",
    "matches the expected distribution of 20% blue, 20% orange, 20% green, 10% yellow, 10% red, and 20%\n",
    "brown. Use Python to perform the test with a significance level of 0.05."
   ]
  },
  {
   "cell_type": "code",
   "execution_count": 33,
   "id": "a96b6276-72dc-4c2f-8b4f-80e63c8ae085",
   "metadata": {},
   "outputs": [],
   "source": [
    "#Answer:\n",
    "\n",
    "# Let use Assume observed value.\n",
    "observed_value = [50,75,100,125,130,120]\n",
    "#excpected value\n",
    "excpected_value = [0.2*600,0.2*600,0.2*600,0.1*600,0.1*600,0.2*600]"
   ]
  },
  {
   "cell_type": "code",
   "execution_count": 25,
   "id": "843a2c14-bc2b-4b32-a87f-b6ea63fde2f5",
   "metadata": {},
   "outputs": [
    {
     "data": {
      "text/plain": [
       "(600.0, 600)"
      ]
     },
     "execution_count": 25,
     "metadata": {},
     "output_type": "execute_result"
    }
   ],
   "source": [
    "sum(excpected_value),sum(observed_value)"
   ]
  },
  {
   "cell_type": "code",
   "execution_count": 26,
   "id": "1881b01e-6831-4f8e-9159-4681ae3a718c",
   "metadata": {},
   "outputs": [
    {
     "data": {
      "text/plain": [
       "[120.0, 120.0, 120.0, 60.0, 60.0, 120.0]"
      ]
     },
     "execution_count": 26,
     "metadata": {},
     "output_type": "execute_result"
    }
   ],
   "source": [
    "excpected_value"
   ]
  },
  {
   "cell_type": "code",
   "execution_count": 32,
   "id": "b9eff264-6bc0-47c0-a1cc-59702e0a3d5e",
   "metadata": {},
   "outputs": [
    {
     "name": "stdout",
     "output_type": "stream",
     "text": [
      "reject the null hypothesis\n"
     ]
    }
   ],
   "source": [
    "chisquare_test_stats,p_value = stat.chisquare(observed_value,excpected_value)\n",
    "significance_value = 0.05\n",
    "df = len(excpected_value) - 1\n",
    "critical_value = stat.chi2.ppf(1-significance_value,df)\n",
    "\n",
    "if chisquare_test_stats > critical_value:\n",
    "    print(\"reject the null hypothesis\")\n",
    "else:\n",
    "    print(\"fail to reject the null hypothesis\")"
   ]
  },
  {
   "cell_type": "code",
   "execution_count": null,
   "id": "301d2c8d-f407-482b-b3e8-c2747656fd94",
   "metadata": {},
   "outputs": [],
   "source": []
  },
  {
   "cell_type": "markdown",
   "id": "e65f1270-233e-4e8d-8965-184bc2c53149",
   "metadata": {},
   "source": [
    "Q3. Use Python to calculate the chi-square statistic and p-value for a contingency table with the following\n",
    "data:"
   ]
  },
  {
   "cell_type": "code",
   "execution_count": 136,
   "id": "1350c1c4-7663-40a8-b373-6d562911cd2b",
   "metadata": {},
   "outputs": [],
   "source": [
    "#Answer:\n",
    "from scipy.stats import chi2_contingency\n",
    "observed_freq = np.array([[20,15],[10,25],[15,28]])\n",
    "\n",
    "chisquare_stats,p_value,dof,excpected_freq = chi2_contingency(observed_freq)"
   ]
  },
  {
   "cell_type": "code",
   "execution_count": 137,
   "id": "c2369355-a2d5-4a2e-879d-f5d6fd9fa7e5",
   "metadata": {},
   "outputs": [
    {
     "data": {
      "text/plain": [
       "6.667915228106747"
      ]
     },
     "execution_count": 137,
     "metadata": {},
     "output_type": "execute_result"
    }
   ],
   "source": [
    "chisquare_stats"
   ]
  },
  {
   "cell_type": "code",
   "execution_count": 138,
   "id": "70635940-9a37-42d4-bdb9-03a51b653941",
   "metadata": {},
   "outputs": [
    {
     "data": {
      "text/plain": [
       "0.035651729711101345"
      ]
     },
     "execution_count": 138,
     "metadata": {},
     "output_type": "execute_result"
    }
   ],
   "source": [
    "p_value"
   ]
  },
  {
   "cell_type": "code",
   "execution_count": 139,
   "id": "78157951-3557-48fb-ba7a-c809142638ea",
   "metadata": {},
   "outputs": [
    {
     "data": {
      "text/plain": [
       "2"
      ]
     },
     "execution_count": 139,
     "metadata": {},
     "output_type": "execute_result"
    }
   ],
   "source": [
    "dof"
   ]
  },
  {
   "cell_type": "code",
   "execution_count": 140,
   "id": "10c91843-c416-4fa4-b0f7-a4c1b0823748",
   "metadata": {},
   "outputs": [
    {
     "data": {
      "text/plain": [
       "array([[13.9380531 , 21.0619469 ],\n",
       "       [13.9380531 , 21.0619469 ],\n",
       "       [17.12389381, 25.87610619]])"
      ]
     },
     "execution_count": 140,
     "metadata": {},
     "output_type": "execute_result"
    }
   ],
   "source": [
    "excpected_freq"
   ]
  },
  {
   "cell_type": "code",
   "execution_count": null,
   "id": "bbdefb16-7112-4ea8-9388-f3fac287a7b8",
   "metadata": {},
   "outputs": [],
   "source": []
  },
  {
   "cell_type": "markdown",
   "id": "e950c2b9-0830-4494-aa99-f8c1e87f7b5f",
   "metadata": {},
   "source": [
    "Q4. A study of the prevalence of smoking in a population of 500 individuals found that 60 individuals\n",
    "smoked. Use Python to calculate the 95% confidence interval for the true proportion of individuals in the\n",
    "population who smoke."
   ]
  },
  {
   "cell_type": "code",
   "execution_count": 142,
   "id": "3f52267c-6199-4e48-8f19-da15a6d29233",
   "metadata": {},
   "outputs": [
    {
     "name": "stdout",
     "output_type": "stream",
     "text": [
      "95% Confidence Interval: (0.09151638887130707, 0.1484836111286929)\n"
     ]
    }
   ],
   "source": [
    "#Answer:\n",
    "    \n",
    "import numpy as np\n",
    "from scipy.stats import norm\n",
    "\n",
    "# Sample data\n",
    "sample_size = 500\n",
    "sample_proportion = 60 / sample_size\n",
    "\n",
    "# Calculate the standard error\n",
    "standard_error = np.sqrt((sample_proportion * (1 - sample_proportion)) / sample_size)\n",
    "\n",
    "# Calculate the critical value for a 95% confidence level (two-tailed test)\n",
    "z_critical = norm.ppf(0.975)\n",
    "\n",
    "# Calculate the confidence interval\n",
    "lower_bound = sample_proportion - z_critical * standard_error\n",
    "upper_bound = sample_proportion + z_critical * standard_error\n",
    "\n",
    "# Print the confidence interval\n",
    "print(\"95% Confidence Interval:\", (lower_bound, upper_bound))\n"
   ]
  },
  {
   "cell_type": "code",
   "execution_count": null,
   "id": "f9b9b8b8-0ce6-408d-a8d9-22277af031e2",
   "metadata": {},
   "outputs": [],
   "source": []
  },
  {
   "cell_type": "markdown",
   "id": "a2a7a445-29d1-490b-ac8c-175019c99f8f",
   "metadata": {},
   "source": [
    "Q5. Calculate the 90% confidence interval for a sample of data with a mean of 75 and a standard deviation\n",
    "of 12 using Python. Interpret the results."
   ]
  },
  {
   "cell_type": "code",
   "execution_count": 151,
   "id": "d6eef61d-98db-4ad7-9959-b150691cf427",
   "metadata": {},
   "outputs": [
    {
     "name": "stdout",
     "output_type": "stream",
     "text": [
      "90% Confidence Interval: (73.46213812134648, 76.53786187865352)\n"
     ]
    }
   ],
   "source": [
    "sample_mean = 75\n",
    "sample_std = 12\n",
    "#Assuming the sample size\n",
    "sample_size = 100\n",
    "standard_error = np.sqrt((sample_std**2)/sample_size)\n",
    "z_critical = norm.ppf(0.900)\n",
    "lower_bound = sample_mean - z_critical * standard_error\n",
    "upper_bound = sample_mean + z_critical * standard_error\n",
    "print(\"90% Confidence Interval:\", (lower_bound, upper_bound))"
   ]
  },
  {
   "cell_type": "code",
   "execution_count": null,
   "id": "9129e8ad-856f-4b24-b3b3-f477a0360fe1",
   "metadata": {},
   "outputs": [],
   "source": []
  },
  {
   "cell_type": "markdown",
   "id": "d9753138-9b44-498c-8413-2535ed7eee8d",
   "metadata": {},
   "source": [
    "Q6. Use Python to plot the chi-square distribution with 10 degrees of freedom. Label the axes and shade the\n",
    "area corresponding to a chi-square statistic of 15."
   ]
  },
  {
   "cell_type": "code",
   "execution_count": 153,
   "id": "7e54aa63-63e8-41ab-9328-03555729c0cc",
   "metadata": {},
   "outputs": [
    {
     "data": {
      "image/png": "[encoded data removed]",
      "text/plain": [
       "<Figure size 640x480 with 1 Axes>"
      ]
     },
     "metadata": {},
     "output_type": "display_data"
    }
   ],
   "source": [
    "#Answer:\n",
    "\n",
    "import numpy as np\n",
    "import matplotlib.pyplot as plt\n",
    "from scipy.stats import chi2\n",
    "\n",
    "# Degrees of freedom\n",
    "df = 10\n",
    "\n",
    "# Chi-square distribution values\n",
    "x = np.linspace(0, 30, 1000)\n",
    "y = chi2.pdf(x, df)\n",
    "plt.plot(x, y, label='Chi-square Distribution (df=10)')\n",
    "plt.fill_between(x, y, where=(x >= 15), color='gray', alpha=0.5, label='Chi-square Statistic (15)')\n",
    "plt.axvline(x=15, color='red', linestyle='--', label='Chi-square Statistic (15)')\n",
    "plt.xlabel('Chi-square Statistic')\n",
    "plt.ylabel('Probability Density Function')\n",
    "plt.title('Chi-square Distribution with 10 Degrees of Freedom')\n",
    "plt.legend()\n",
    "plt.grid()\n",
    "plt.show()"
   ]
  },
  {
   "cell_type": "code",
   "execution_count": null,
   "id": "8708dfa7-8d83-411f-bc46-c4b98dc12e9e",
   "metadata": {},
   "outputs": [],
   "source": []
  },
  {
   "cell_type": "markdown",
   "id": "752b2de8-c5c6-4365-85c6-e8aa64e049a9",
   "metadata": {},
   "source": [
    "Q7. A random sample of 1000 people was asked if they preferred Coke or Pepsi. Of the sample, 520\n",
    "preferred Coke. Calculate a 99% confidence interval for the true proportion of people in the population who\n",
    "prefer Coke."
   ]
  },
  {
   "cell_type": "code",
   "execution_count": 154,
   "id": "bc234f56-0ed8-44b9-95bb-0ccfdf9bdf8b",
   "metadata": {},
   "outputs": [
    {
     "name": "stdout",
     "output_type": "stream",
     "text": [
      "99% Confidence Interval: (-1.0178618786535203, 2.0578618786535205)\n"
     ]
    }
   ],
   "source": [
    "#Answer:\n",
    "\n",
    "sample_size = 1000\n",
    "coke_preferred = 520\n",
    "sample_proportion = coke_preferred/sample_size\n",
    "tandard_error = np.sqrt((sample_proportion * (1 - sample_proportion)) / sample_size)\n",
    "critical_val = norm.ppf(0.995)\n",
    "lower_bound = sample_proportion - z_critical * standard_error\n",
    "upper_bound = sample_proportion + z_critical * standard_error\n",
    "print(\"99% Confidence Interval:\", (lower_bound, upper_bound))"
   ]
  },
  {
   "cell_type": "code",
   "execution_count": null,
   "id": "56d7373e-3cb9-4697-a36e-7e08140a0cac",
   "metadata": {},
   "outputs": [],
   "source": []
  },
  {
   "cell_type": "markdown",
   "id": "e608c873-0cbc-47ab-bfbd-2ffec00173b0",
   "metadata": {},
   "source": [
    "Q8. A researcher hypothesizes that a coin is biased towards tails. They flip the coin 100 times and observe\n",
    "45 tails. Conduct a chi-square goodness of fit test to determine if the observed frequencies match the\n",
    "expected frequencies of a fair coin. Use a significance level of 0.05."
   ]
  },
  {
   "cell_type": "code",
   "execution_count": 157,
   "id": "51a775d5-8c66-49cf-9e45-900f4980299a",
   "metadata": {},
   "outputs": [],
   "source": [
    "#head tail\n",
    "observed = [45,55]"
   ]
  },
  {
   "cell_type": "code",
   "execution_count": 170,
   "id": "7ff2a45b-353f-4715-b5b1-c6c82ddc455b",
   "metadata": {},
   "outputs": [],
   "source": [
    "expected = [50,50]"
   ]
  },
  {
   "cell_type": "code",
   "execution_count": 172,
   "id": "c4c9da6c-0e7d-4d93-8054-517a90ff97fa",
   "metadata": {},
   "outputs": [
    {
     "name": "stdout",
     "output_type": "stream",
     "text": [
      "The coin is fair (fail to reject the null hypothesis).\n"
     ]
    }
   ],
   "source": [
    "chisquare,p_value = stat.chisquare(observed,expected)\n",
    "significance_value = 0.05\n",
    "df = len(expected)-1\n",
    "c_val = stat.chi2.ppf(1-significance_value,df)\n",
    "if chisquare > c_val:\n",
    "     print(\"The coin is biased towards tails (reject the null hypothesis).\")\n",
    "else:\n",
    "    print(\"The coin is fair (fail to reject the null hypothesis).\")"
   ]
  },
  {
   "cell_type": "code",
   "execution_count": null,
   "id": "a8073fcb-5634-4f7d-803d-8976638ee0fa",
   "metadata": {},
   "outputs": [],
   "source": []
  },
  {
   "cell_type": "markdown",
   "id": "e14aa460-fb0b-43a2-9a3e-1b19c9d14efc",
   "metadata": {},
   "source": [
    "Q9. A study was conducted to determine if there is an association between smoking status (smoker or\n",
    "non-smoker) and lung cancer diagnosis (yes or no). The results are shown in the contingency table below.\n",
    "Conduct a chi-square test for independence to determine if there is a significant association between\n",
    "smoking status and lung cancer diagnosis.\n",
    "Use a significance level of 0.05."
   ]
  },
  {
   "cell_type": "code",
   "execution_count": 177,
   "id": "e347ec29-257e-4a7a-a14a-44a2c3af711f",
   "metadata": {},
   "outputs": [
    {
     "name": "stdout",
     "output_type": "stream",
     "text": [
      "There is a significant association between smoking status and lung cancer diagnosis (reject the null hypothesis).\n"
     ]
    }
   ],
   "source": [
    "#Answer:\n",
    "\n",
    "from scipy.stats import chi2_contingency\n",
    "\n",
    "observed_val = np.array([[60,140],[30,170]])\n",
    "\n",
    "chisqr_sts,p_val,df1,excpected_val = chi2_contingency(observed_val)\n",
    "sign = 0.05\n",
    "crit = stat.chi2.ppf(1-sign,df1)\n",
    "if chisqr_sts > crit:\n",
    "    print(\"There is a significant association between smoking status and lung cancer diagnosis (reject the null hypothesis).\")\n",
    "else:\n",
    "    print(\"There is no significant association between smoking status and lung cancer diagnosis (fail to reject the null hypothesis).\")"
   ]
  },
  {
   "cell_type": "code",
   "execution_count": null,
   "id": "d8004d3b-337e-4922-9854-8487e47c189a",
   "metadata": {},
   "outputs": [],
   "source": []
  },
  {
   "cell_type": "markdown",
   "id": "6759694a-653c-402a-9f97-a4acf499a0e0",
   "metadata": {},
   "source": [
    "Q10. A study was conducted to determine if the proportion of people who prefer milk chocolate, dark\n",
    "chocolate, or white chocolate is different in the U.S. versus the U.K. A random sample of 500 people from\n",
    "the U.S. and a random sample of 500 people from the U.K. were surveyed. The results are shown in the\n",
    "contingency table below. Conduct a chi-square test for independence to determine if there is a significant\n",
    "association between chocolate preference and country of origin.\n",
    "\n",
    "Use a significance level of 0.01."
   ]
  },
  {
   "cell_type": "code",
   "execution_count": 180,
   "id": "1903672f-9d96-4339-9087-3bc4df70d147",
   "metadata": {},
   "outputs": [
    {
     "name": "stdout",
     "output_type": "stream",
     "text": [
      "There is a significant association between chocolate preference and country of origin (reject the null hypothesis).\n"
     ]
    }
   ],
   "source": [
    "#Answer:\n",
    "\n",
    "from scipy.stats import chi2_contingency\n",
    "\n",
    "observed_val1 = np.array([[200,150,150],[225,175,100]])\n",
    "\n",
    "chisqr_sts1,p_val1,df11,excpected_val1 = chi2_contingency(observed_val1)\n",
    "sign1 = 0.01\n",
    "crit1 = stat.chi2.ppf(1-sign1,df11)\n",
    "if chisqr_sts1 > crit1:\n",
    "     print(\"There is a significant association between chocolate preference and country of origin (reject the null hypothesis).\")\n",
    "else:\n",
    "    print(\"There is no significant association between chocolate preference and country of origin (fail to reject the null hypothesis).\")"
   ]
  },
  {
   "cell_type": "code",
   "execution_count": null,
   "id": "b780bad9-7f02-4ca9-9516-a3c41850b6fd",
   "metadata": {},
   "outputs": [],
   "source": []
  },
  {
   "cell_type": "markdown",
   "id": "21f63dce-f98f-44de-9c9f-106f86570287",
   "metadata": {},
   "source": [
    "Q11. A random sample of 30 people was selected from a population with an unknown mean and standard\n",
    "deviation. The sample mean was found to be 72 and the sample standard deviation was found to be 10.\n",
    "Conduct a hypothesis test to determine if the population mean is significantly different from 70. Use a\n",
    "significance level of 0.05."
   ]
  },
  {
   "cell_type": "code",
   "execution_count": 182,
   "id": "aab0024b-2bf4-4b9f-b3a8-0234834093da",
   "metadata": {},
   "outputs": [
    {
     "name": "stdout",
     "output_type": "stream",
     "text": [
      "One-sample t-test statistic: nan\n",
      "P-value: nan\n",
      "There is no significant difference between the population mean and 70 (fail to reject the null hypothesis).\n"
     ]
    },
    {
     "name": "stderr",
     "output_type": "stream",
     "text": [
      "/tmp/ipykernel_732/3572558148.py:17: RuntimeWarning: Precision loss occurred in moment calculation due to catastrophic cancellation. This occurs when the data are nearly identical. Results may be unreliable.\n",
      "  t_stat, p_value = ttest_1samp([sample_mean], null_hypothesis_mean)\n"
     ]
    }
   ],
   "source": [
    "#Answer:\n",
    "import numpy as np\n",
    "from scipy.stats import ttest_1samp\n",
    "\n",
    "# Sample data\n",
    "sample_mean = 72\n",
    "sample_stddev = 10\n",
    "sample_size = 30\n",
    "\n",
    "# Population mean under the null hypothesis\n",
    "null_hypothesis_mean = 70\n",
    "\n",
    "# Calculate the standard error of the mean\n",
    "standard_error = sample_stddev / np.sqrt(sample_size)\n",
    "\n",
    "# Perform the one-sample t-test\n",
    "t_stat, p_value = ttest_1samp([sample_mean], null_hypothesis_mean)\n",
    "\n",
    "# Print the results\n",
    "print(\"One-sample t-test statistic:\", t_stat)\n",
    "print(\"P-value:\", p_value)\n",
    "\n",
    "# Check if the null hypothesis is rejected or not\n",
    "alpha = 0.05  # Significance level\n",
    "if p_value < alpha:\n",
    "    print(\"The population mean is significantly different from 70 (reject the null hypothesis).\")\n",
    "else:\n",
    "    print(\"There is no significant difference between the population mean and 70 (fail to reject the null hypothesis).\")\n"
   ]
  },
  {
   "cell_type": "code",
   "execution_count": null,
   "id": "7992e825-8821-49a4-8378-7acbaf762ea0",
   "metadata": {},
   "outputs": [],
   "source": []
  }
 ],
 "metadata": {
  "kernelspec": {
   "display_name": "Python 3 (ipykernel)",
   "language": "python",
   "name": "python3"
  },
  "language_info": {
   "codemirror_mode": {
    "name": "ipython",
    "version": 3
   },
   "file_extension": ".py",
   "mimetype": "text/x-python",
   "name": "python",
   "nbconvert_exporter": "python",
   "pygments_lexer": "ipython3",
   "version": "3.10.6"
  }
 },
 "nbformat": 4,
 "nbformat_minor": 5
}
